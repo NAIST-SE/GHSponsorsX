{
 "cells": [
  {
   "cell_type": "code",
   "execution_count": null,
   "id": "a5654864",
   "metadata": {},
   "outputs": [],
   "source": [
    "import pandas as pd\n",
    "import time\n",
    "from string import digits\n",
    "import string"
   ]
  },
  {
   "cell_type": "markdown",
   "id": "80727fbd",
   "metadata": {},
   "source": [
    "### Read the csv file"
   ]
  },
  {
   "cell_type": "code",
   "execution_count": null,
   "id": "28d94dd6",
   "metadata": {},
   "outputs": [],
   "source": [
    "data = pd.read_csv('../data/Contribution_activities/week_after.csv')"
   ]
  },
  {
   "cell_type": "markdown",
   "id": "58b23c2b",
   "metadata": {},
   "source": [
    "### Categorize activities and provide each user with a count of the different activities"
   ]
  },
  {
   "cell_type": "code",
   "execution_count": null,
   "id": "39f635e3",
   "metadata": {},
   "outputs": [],
   "source": [
    "# The activities were classified as pull requests\n",
    "pull_request = [\n",
    "    'Created a pull request', 'Opened other pull request',\n",
    "    'Opened pull request', 'Opened their first pull',\n",
    "    'Opened other pull requests', 'Opened pull request in',\n",
    "    'Opened pull requests in'\n",
    "]\n",
    "# The activities were classified as opened issue\n",
    "opened_issue = [\n",
    "    'Created an issue in', 'Opened other issue in', 'Opened their first issue',\n",
    "    'Opened issue in repository', 'Opened issues in repositories',\n",
    "    'Opened issues in repository', 'Opened other issue in',\n",
    "    'Opened other issues in'\n",
    "]\n",
    "# The activities were classified as created repository\n",
    "created_repository = [\n",
    "    'Created other repositories', 'Created repositories',\n",
    "    'Created their first repository', 'Created other repository',\n",
    "    'Created repository'\n",
    "]\n",
    "# The activities were classified as answered discussion\n",
    "answered_discussion = [\n",
    "    'Answered discussion in repository',\n",
    "    'Answered discussions in repositories',\n",
    "    'Answered discussions in repository'\n",
    "]\n",
    "# The activities were classified as contributed private repository\n",
    "contributed_private_repository = [\n",
    "    'contribution in private repositories',\n",
    "    'contributions in private repositories'\n",
    "]\n",
    "# The activities were classified as committed\n",
    "committed = [\n",
    "    'Created commit in repository', 'Created commits in repositories',\n",
    "    'Created commits in repository'\n",
    "]\n",
    "# The activities were classified as reviewed pull request\n",
    "reviewed_pull_request = [\n",
    "    'Reviewed pull request in', 'Reviewed pull requests in'\n",
    "]\n",
    "# The activities were classified as started discussion\n",
    "started_discussion = [\n",
    "    'Started discussion in repository', 'Started discussions in repositories',\n",
    "    'Started discussions in repository'\n",
    "]\n",
    "list_act = []\n",
    "each_act = []\n",
    "commits = []\n",
    "openedPR = []\n",
    "contributePrivate_Repo = []\n",
    "openIssue = []\n",
    "reviewPR = []\n",
    "createRepo = []\n",
    "startDiss = []\n",
    "answerDiss = []\n",
    "joinOrg = []\n",
    "none = []\n",
    "\n",
    "for act in data['week_after']:\n",
    "    num_openedPR = 0\n",
    "    num_joinOrg = 0\n",
    "    num_openIssue = 0\n",
    "    num_createRepo = 0\n",
    "    num_answerDiss = 0\n",
    "    num_contributePrivate_Repo = 0\n",
    "    num_commits = 0\n",
    "    num_reviewPR = 0\n",
    "    num_startDiss = 0\n",
    "    num_none = 0\n",
    "    a_act = act.split(\"',\")\n",
    "    for single_act in a_act:\n",
    "        table = str.maketrans('', '', digits)\n",
    "        newstring = single_act.translate(table)\n",
    "        new_string = newstring.translate(\n",
    "            str.maketrans('', '', string.punctuation))\n",
    "        extract_act = ' '.join(new_string.split()[:4])\n",
    "        # The activities were classified as join org\n",
    "        join_org = extract_act.startswith(('Joined', 'organization'))\n",
    "        if extract_act in pull_request:\n",
    "            num_openedPR += 1\n",
    "            list_act.append(\n",
    "                extract_act.replace(extract_act, 'Opened pull request'))\n",
    "        elif join_org:\n",
    "            num_joinOrg += 1\n",
    "            list_act.append(\"Joined organization\")\n",
    "        elif extract_act in opened_issue:\n",
    "            num_openIssue += 1\n",
    "            list_act.append(extract_act.replace(extract_act, 'Opened issue'))\n",
    "        elif extract_act in created_repository:\n",
    "            num_createRepo += 1\n",
    "            list_act.append(\n",
    "                extract_act.replace(extract_act, 'Created repository'))\n",
    "        elif extract_act in answered_discussion:\n",
    "            num_answerDiss += 1\n",
    "            list_act.append(\n",
    "                extract_act.replace(extract_act, 'Answered discussion'))\n",
    "        elif extract_act in contributed_private_repository:\n",
    "            num_contributePrivate_Repo += 1\n",
    "            list_act.append(\n",
    "                extract_act.replace(extract_act,\n",
    "                                    'Contributed in private repository'))\n",
    "        elif extract_act in committed:\n",
    "            num_commits += 1\n",
    "            list_act.append(extract_act.replace(extract_act, 'Committed'))\n",
    "        elif extract_act in reviewed_pull_request:\n",
    "            num_reviewPR += 1\n",
    "            list_act.append(\n",
    "                extract_act.replace(extract_act, 'Reviewed pull request'))\n",
    "        elif extract_act in started_discussion:\n",
    "            num_startDiss += 1\n",
    "            list_act.append(\n",
    "                extract_act.replace(extract_act, 'Started discussion'))\n",
    "        elif extract_act == '':\n",
    "            num_none += 1\n",
    "            list_act.append(\"None\")\n",
    "        else:\n",
    "            print(\"Error\", extract_act)\n",
    "    openedPR.append(num_openedPR)\n",
    "    joinOrg.append(num_joinOrg)\n",
    "    openIssue.append(num_openIssue)\n",
    "    createRepo.append(num_createRepo)\n",
    "    answerDiss.append(num_answerDiss)\n",
    "    contributePrivate_Repo.append(num_contributePrivate_Repo)\n",
    "    commits.append(num_commits)\n",
    "    reviewPR.append(num_reviewPR)\n",
    "    startDiss.append(num_startDiss)\n",
    "    none.append(num_none)"
   ]
  },
  {
   "cell_type": "markdown",
   "id": "68447942",
   "metadata": {},
   "source": [
    "### Appended each list to the dataframe"
   ]
  },
  {
   "cell_type": "code",
   "execution_count": null,
   "id": "332b791b",
   "metadata": {},
   "outputs": [],
   "source": [
    "df = pd.DataFrame()\n",
    "df['Opened pull request'] = openedPR\n",
    "df['Joined organization'] = joinOrg\n",
    "df['Opened issue'] = openIssue\n",
    "df['Created repository'] = createRepo\n",
    "df['Answered discussion'] = answerDiss\n",
    "df['Contributed in private repository'] = contributePrivate_Repo\n",
    "df['Committed'] = commits\n",
    "df['Reviewed pull request'] = reviewPR\n",
    "df['Started discussion'] = startDiss\n",
    "df['None'] = none"
   ]
  },
  {
   "cell_type": "markdown",
   "id": "279c8a48",
   "metadata": {},
   "source": [
    "### Save as csv file"
   ]
  },
  {
   "cell_type": "code",
   "execution_count": null,
   "id": "3f876e39",
   "metadata": {},
   "outputs": [],
   "source": [
    "df.to_csv('../data/Contribution_activities/week_after.csv', index=False)"
   ]
  }
 ],
 "metadata": {
  "kernelspec": {
   "display_name": "Python 3 (ipykernel)",
   "language": "python",
   "name": "python3"
  },
  "language_info": {
   "codemirror_mode": {
    "name": "ipython",
    "version": 3
   },
   "file_extension": ".py",
   "mimetype": "text/x-python",
   "name": "python",
   "nbconvert_exporter": "python",
   "pygments_lexer": "ipython3",
   "version": "3.9.12"
  },
  "vscode": {
   "interpreter": {
    "hash": "31f2aee4e71d21fbe5cf8b01ff0e069b9275f58929596ceb00d14d90e3e16cd6"
   }
  }
 },
 "nbformat": 4,
 "nbformat_minor": 5
}
