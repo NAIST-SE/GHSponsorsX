{
 "cells": [
  {
   "cell_type": "code",
   "execution_count": null,
   "id": "e479b5d2",
   "metadata": {
    "scrolled": false
   },
   "outputs": [],
   "source": [
    "import pandas as pd\n",
    "import numpy as np\n",
    "import datetime\n",
    "import time\n",
    "from datetime import datetime\n",
    "import requests\n",
    "import re\n",
    "from lxml import html\n",
    "import requests\n",
    "from tqdm import tqdm\n",
    "from bs4 import BeautifulSoup"
   ]
  },
  {
   "cell_type": "markdown",
   "id": "2f84fc4e",
   "metadata": {},
   "source": [
    "### Calculate the start and end dates a week before the tweet to get information about the user's activity a week before the tweet"
   ]
  },
  {
   "cell_type": "code",
   "execution_count": null,
   "id": "9a2588b1",
   "metadata": {},
   "outputs": [],
   "source": [
    "def before_week(mention_time):\n",
    "    date = mention_time.split(' ')[0]\n",
    "    for_date = datetime.datetime.strptime(date, '%Y-%m-%d').date()\n",
    "    start_before = for_date + datetime.timedelta(days=-10)\n",
    "    end_before = for_date + datetime.timedelta(days=-4)\n",
    "    return start_before, end_before"
   ]
  },
  {
   "cell_type": "markdown",
   "id": "17e99ebb",
   "metadata": {},
   "source": [
    "### Calculate the start and end dates within a week the tweet to get information about the user's activity within a week the tweet"
   ]
  },
  {
   "cell_type": "code",
   "execution_count": null,
   "id": "82e9de9c",
   "metadata": {},
   "outputs": [],
   "source": [
    "def during_week(mention_time):\n",
    "    date = mention_time.split(' ')[0]\n",
    "    for_date = datetime.datetime.strptime(date, '%Y-%m-%d').date()\n",
    "    start_dur = for_date + datetime.timedelta(days=-3)\n",
    "    end_dur = for_date + datetime.timedelta(days=3)\n",
    "    return start_dur, end_dur"
   ]
  },
  {
   "cell_type": "markdown",
   "id": "c3015e29",
   "metadata": {},
   "source": [
    "### Calculate the start and end dates a week after the tweet to get information about the user's activity a week after the tweet"
   ]
  },
  {
   "cell_type": "code",
   "execution_count": null,
   "id": "cf5266cf",
   "metadata": {},
   "outputs": [],
   "source": [
    "def after_week(mention_time):\n",
    "    date = mention_time.split(' ')[0]\n",
    "    for_date = datetime.datetime.strptime(date, '%Y-%m-%d').date()\n",
    "    start_after = for_date + datetime.timedelta(days=4)\n",
    "    end_after = for_date + datetime.timedelta(days=10)\n",
    "    return start_after, end_after"
   ]
  },
  {
   "cell_type": "markdown",
   "id": "2432ea12",
   "metadata": {},
   "source": [
    "### Read csv file"
   ]
  },
  {
   "cell_type": "code",
   "execution_count": null,
   "id": "66941d25",
   "metadata": {
    "scrolled": false
   },
   "outputs": [],
   "source": [
    "tweets = pd.read_csv('../../data/Tweets/English_tweets.csv',\n",
    "                     index_col=False)"
   ]
  },
  {
   "cell_type": "markdown",
   "id": "2b13ceb7",
   "metadata": {},
   "source": [
    "### Get Activity Descriptions"
   ]
  },
  {
   "cell_type": "code",
   "execution_count": null,
   "id": "76dc689f",
   "metadata": {
    "scrolled": true
   },
   "outputs": [],
   "source": [
    "user_activity = []\n",
    "activity_des = []\n",
    "activity_URL = []\n",
    "total_activity = []\n",
    "import datetime\n",
    "import time\n",
    "for mention_time, sponsor_username in tqdm(\n",
    "        zip(tweets.iloc[:, 2], tweets.iloc[:, 7])):\n",
    "    # Here to change function to get different time duration activity\n",
    "    after_times = after_week(mention_time)\n",
    "    start = after_times[0]\n",
    "    end = after_times[1]\n",
    "    URL = \"https://github.com/{0}?tab=overview&from={1}&to={2}\".format(\n",
    "        sponsor_username, start, end)\n",
    "    activity_URL.append(URL)\n",
    "    page = requests.get(URL)\n",
    "    activity = page.text\n",
    "    all_activity = BeautifulSoup(activity, 'lxml')\n",
    "    get_all = all_activity.find_all('div', class_='TimelineItem-body')\n",
    "    for item in get_all:\n",
    "        get_span = item.find('span')\n",
    "        get_h4 = item.find('h4')\n",
    "        if str(get_h4) == 'None':\n",
    "            span_text = get_span.text.strip()\n",
    "            text = \" \".join(span_text.split())\n",
    "            activity_des.append(text)\n",
    "        else:\n",
    "            h4_text = get_h4.text.strip()\n",
    "            texts = \" \".join(h4_text.split())\n",
    "            activity_des.append(texts)\n",
    "    user_activity.append(activity_des)\n",
    "    total_activity.append(len(activity_des))\n",
    "    activity_des = []\n",
    "    time.sleep(2)"
   ]
  },
  {
   "cell_type": "markdown",
   "id": "0ae695a4",
   "metadata": {},
   "source": [
    "### Save the user's activity during the corresponding time period, as well as the corresponding links"
   ]
  },
  {
   "cell_type": "code",
   "execution_count": null,
   "id": "ed80b7e7",
   "metadata": {},
   "outputs": [],
   "source": [
    "tweets['week_after'] = user_activity\n",
    "tweets['week_after_url'] = activity_URL"
   ]
  },
  {
   "cell_type": "markdown",
   "id": "5b0155fb",
   "metadata": {},
   "source": [
    "### Save as csv file"
   ]
  },
  {
   "cell_type": "code",
   "execution_count": null,
   "id": "6575fb7e",
   "metadata": {},
   "outputs": [],
   "source": [
    "tweets.to_csv('../../data/Contribution_activities/week_after.csv',\n",
    "              index=False)"
   ]
  }
 ],
 "metadata": {
  "kernelspec": {
   "display_name": "Python 3 (ipykernel)",
   "language": "python",
   "name": "python3"
  },
  "language_info": {
   "codemirror_mode": {
    "name": "ipython",
    "version": 3
   },
   "file_extension": ".py",
   "mimetype": "text/x-python",
   "name": "python",
   "nbconvert_exporter": "python",
   "pygments_lexer": "ipython3",
   "version": "3.8.16"
  },
  "vscode": {
   "interpreter": {
    "hash": "31f2aee4e71d21fbe5cf8b01ff0e069b9275f58929596ceb00d14d90e3e16cd6"
   }
  }
 },
 "nbformat": 4,
 "nbformat_minor": 5
}
