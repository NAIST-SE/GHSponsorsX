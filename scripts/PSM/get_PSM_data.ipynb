{
 "cells": [
  {
   "cell_type": "code",
   "execution_count": null,
   "id": "c1383843",
   "metadata": {},
   "outputs": [],
   "source": [
    "from urllib.request import urlopen\n",
    "import pandas as pd\n",
    "import requests\n",
    "from pygitapi import HubAPI\n",
    "from tqdm import tqdm\n",
    "\n",
    "git = HubAPI('git_token')"
   ]
  },
  {
   "cell_type": "markdown",
   "id": "00d3f8a8",
   "metadata": {},
   "source": [
    "### Read the csv file"
   ]
  },
  {
   "cell_type": "code",
   "execution_count": null,
   "id": "9768066a",
   "metadata": {},
   "outputs": [],
   "source": [
    "data = pd.read_csv('./data/sponsored_user.csv')"
   ]
  },
  {
   "cell_type": "markdown",
   "id": "71d0f117",
   "metadata": {},
   "source": [
    "### Get the number of repositories owned by the user, get the number of the given user is followed by, the number of organizations the user belongs to, the number of pull requests associated with this user, and the number of users is sponsoring"
   ]
  },
  {
   "cell_type": "code",
   "execution_count": null,
   "id": "085e8278",
   "metadata": {},
   "outputs": [],
   "source": [
    "import time\n",
    "\n",
    "repo = []\n",
    "follower = []\n",
    "sponsoring = []\n",
    "joined_org = []\n",
    "open_pr = []\n",
    "\n",
    "for user in tqdm(data['sponsor_username']):\n",
    "    query = \"\"\"\n",
    "        query{\n",
    "            user(login: \"username\") {\n",
    "                sponsoring(first: 100) {\n",
    "                  totalCount\n",
    "                }\n",
    "                pullRequests(\n",
    "                  first: 100\n",
    "                  orderBy: {field: UPDATED_AT, direction: DESC}\n",
    "                ) {\n",
    "                  totalCount\n",
    "                  nodes {\n",
    "                    repository {\n",
    "                      name\n",
    "                      isPrivate\n",
    "                    }\n",
    "                  }\n",
    "                }\n",
    "                organizations(first: 100) {\n",
    "                      totalCount\n",
    "                    }\n",
    "                followers(first: 100) {\n",
    "                  totalCount\n",
    "                  edges {\n",
    "                    node {\n",
    "                      login\n",
    "                      followers(first: 0) {\n",
    "                        totalCount\n",
    "                      }\n",
    "                    }\n",
    "                    cursor\n",
    "                  }\n",
    "                  pageInfo {\n",
    "                    endCursor\n",
    "                    hasNextPage\n",
    "                  }\n",
    "                }\n",
    "                repositories (first:100){\n",
    "                  totalCount\n",
    "                  nodes {\n",
    "                    name\n",
    "                    description\n",
    "                    primaryLanguage {\n",
    "                      name\n",
    "                    }\n",
    "                  }\n",
    "                }\n",
    "              }\n",
    "        }\"\"\".replace('username', user)\n",
    "    tiers = git.custom_query(query)\n",
    "    if str(tiers['user']) == \"None\":\n",
    "        repo.append(\"None\")\n",
    "        follower.append(\"None\")\n",
    "        sponsoring.append(\"None\")\n",
    "        joined_org.append(\"None\")\n",
    "        open_pr.append(\"None\")\n",
    "    else:\n",
    "        repo.append(tiers['user']['repositories']['totalCount'])\n",
    "        follower.append(tiers['user']['followers']['totalCount'])\n",
    "        sponsoring.append(tiers['user']['sponsoring']['totalCount'])\n",
    "        joined_org.append(tiers['user']['organizations']['totalCount'])\n",
    "        open_pr.append(tiers['user']['pullRequests']['totalCount'])\n",
    "    time.sleep(1)"
   ]
  },
  {
   "cell_type": "markdown",
   "id": "85831360",
   "metadata": {},
   "source": [
    "### Get user's pull request review contributions made by the user(returns the most recently submitted review for each PR reviewed by the user and user's primary language"
   ]
  },
  {
   "cell_type": "code",
   "execution_count": null,
   "id": "1ba5f970",
   "metadata": {},
   "outputs": [],
   "source": [
    "import time\n",
    "\n",
    "lang = []\n",
    "lang_use = []\n",
    "review_pr = []\n",
    "\n",
    "for user in tqdm(data['sponsor_username']):\n",
    "    query = \"\"\"\n",
    "        query {\n",
    "          viewer {\n",
    "            login\n",
    "          }\n",
    "          rateLimit {\n",
    "            limit\n",
    "            cost\n",
    "            remaining\n",
    "            resetAt\n",
    "          }\n",
    "    }\n",
    "    \"\"\"\n",
    "    resp = git.custom_query(query)\n",
    "    if resp['rateLimit']['remaining'] <= 110:\n",
    "        time.sleep(3600)\n",
    "    query = \"\"\"\n",
    "        query{\n",
    "            user(login: \"username\") {\n",
    "                contributionsCollection {\n",
    "                  pullRequestReviewContributions(first: 1, orderBy: {direction: ASC}) {\n",
    "                    totalCount\n",
    "                  }\n",
    "                }\n",
    "                repositories(first: 100) {\n",
    "                  totalCount\n",
    "                  edges {\n",
    "                    node {\n",
    "                      primaryLanguage {\n",
    "                        name\n",
    "                      }\n",
    "                    }\n",
    "                  }\n",
    "                  pageInfo {\n",
    "                    endCursor\n",
    "                    hasNextPage\n",
    "                    startCursor\n",
    "                  }\n",
    "                }\n",
    "              }\n",
    "        }\"\"\".replace('username', user)\n",
    "    tiers = git.custom_query(query)\n",
    "\n",
    "    if str(tiers['user']) == \"None\":\n",
    "        lang_use.append('Not Found')\n",
    "        review_pr.append('Not Found')\n",
    "    else:\n",
    "        review_pr.append(tiers['user']['contributionsCollection']\n",
    "                         ['pullRequestReviewContributions']['totalCount'])\n",
    "        if len(tiers['user']['repositories']['edges']) == 0:\n",
    "            lang_use.append('Undetermined')\n",
    "        else:\n",
    "            for x in tiers['user']['repositories']['edges']:\n",
    "                if str(x['node']['primaryLanguage']) == \"None\":\n",
    "                    lang.append('Undetermined')\n",
    "                else:\n",
    "                    lang.append(x['node']['primaryLanguage']['name'])\n",
    "\n",
    "    if str(tiers['user']) != \"None\":\n",
    "        while tiers['user']['repositories']['pageInfo']['hasNextPage']:\n",
    "            endcursor = tiers['user']['repositories']['pageInfo']['endCursor']\n",
    "            query = \"\"\"\n",
    "            query{\n",
    "                user(login: \"username\") {\n",
    "                    repositories(first: 100,after:\"endcursor\") {\n",
    "                      totalCount\n",
    "                      edges {\n",
    "                        node {\n",
    "                          primaryLanguage {\n",
    "                            name\n",
    "                          }\n",
    "                        }\n",
    "                      }\n",
    "                      pageInfo {\n",
    "                        endCursor\n",
    "                        hasNextPage\n",
    "                        startCursor\n",
    "                      }\n",
    "                    }\n",
    "                  }\n",
    "            }\"\"\".replace('endcursor', endcursor).replace('username', user)\n",
    "            tiers = git.custom_query(query)\n",
    "            for x in tiers['user']['repositories']['edges']:\n",
    "                if str(x['node']['primaryLanguage']) == \"None\":\n",
    "                    lang.append('Undetermined')\n",
    "                else:\n",
    "                    lang.append(x['node']['primaryLanguage']['name'])\n",
    "    if len(lang) != 0:\n",
    "        df = pd.DataFrame(lang, columns=['lang'])\n",
    "        lang_use.append(df['lang'].mode()[0])\n",
    "        lang = []\n",
    "        df = pd.DataFrame()"
   ]
  },
  {
   "cell_type": "code",
   "execution_count": null,
   "id": "eb5d0d01",
   "metadata": {},
   "outputs": [],
   "source": [
    "df = pd.DataFrame()"
   ]
  },
  {
   "cell_type": "markdown",
   "id": "4f1013cf",
   "metadata": {},
   "source": [
    "### Appended each list to the dataframe"
   ]
  },
  {
   "cell_type": "code",
   "execution_count": null,
   "id": "c05664f4",
   "metadata": {},
   "outputs": [],
   "source": [
    "df['user'] = data['sponsor_username']\n",
    "df['sponsors'] = data['number_of_sponsors']\n",
    "df['repositories'] = repo\n",
    "df['sponsoring'] = sponsoring\n",
    "df['openedPRs'] = open_pr\n",
    "df['reviewedPRs'] = review_pr\n",
    "df['followers'] = follower\n",
    "df['organizations'] = joined_org\n",
    "df['language'] = lang_use"
   ]
  },
  {
   "cell_type": "markdown",
   "id": "38e3c0f5",
   "metadata": {},
   "source": [
    "### Save as csv file"
   ]
  },
  {
   "cell_type": "code",
   "execution_count": null,
   "id": "ac8b8f0f",
   "metadata": {},
   "outputs": [],
   "source": [
    "df.to_csv('../data/PSM/PSMdata.csv', index=False)"
   ]
  }
 ],
 "metadata": {
  "kernelspec": {
   "display_name": "Python 3 (ipykernel)",
   "language": "python",
   "name": "python3"
  },
  "language_info": {
   "codemirror_mode": {
    "name": "ipython",
    "version": 3
   },
   "file_extension": ".py",
   "mimetype": "text/x-python",
   "name": "python",
   "nbconvert_exporter": "python",
   "pygments_lexer": "ipython3",
   "version": "3.9.12"
  },
  "vscode": {
   "interpreter": {
    "hash": "31f2aee4e71d21fbe5cf8b01ff0e069b9275f58929596ceb00d14d90e3e16cd6"
   }
  }
 },
 "nbformat": 4,
 "nbformat_minor": 5
}
