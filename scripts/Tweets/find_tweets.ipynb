{
 "cells": [
  {
   "cell_type": "code",
   "execution_count": null,
   "id": "d3bbfc3b",
   "metadata": {},
   "outputs": [],
   "source": [
    "import tweepy\n",
    "import pandas as pd\n",
    "import time\n",
    "import re\n",
    "import requests\n",
    "import langtags\n",
    "from datetime import date\n",
    "import github\n",
    "from github import Github\n",
    "import tqdm\n",
    "from pygitapi import HubAPI\n",
    "\n",
    "git = Github(\"github_token\")"
   ]
  },
  {
   "cell_type": "code",
   "execution_count": null,
   "id": "ede08510",
   "metadata": {},
   "outputs": [],
   "source": [
    "client = tweepy.Client(bearer_token=\"bearer_token\",\n",
    "                       access_token=\"access_token\",\n",
    "                       access_token_secret=\"access_token_secret\")"
   ]
  },
  {
   "cell_type": "markdown",
   "id": "3bec7cc6",
   "metadata": {},
   "source": [
    "### Query for tweets containing the URL \"github.com/sponsors/\""
   ]
  },
  {
   "cell_type": "code",
   "execution_count": null,
   "id": "2c75ed63",
   "metadata": {},
   "outputs": [],
   "source": [
    "tweet_data = []\n",
    "for tweet in tweepy.Paginator(\n",
    "        client.search_all_tweets,\n",
    "        query='url:\"github.com/sponsors/\"  -is:retweet -is:reply',\n",
    "        tweet_fields=[\n",
    "            'id', 'text', 'author_id', 'created_at', 'entities',\n",
    "            'referenced_tweets', 'lang', 'public_metrics'\n",
    "        ],\n",
    "        user_fields=['username'],\n",
    "        expansions='author_id',\n",
    "        start_time='2019-05-01T00:00:00Z',\n",
    "        end_time='2022-04-30T00:00:00Z',\n",
    "        max_results=50):\n",
    "    time.sleep(1.5)\n",
    "    tweet_data.append(tweet)"
   ]
  },
  {
   "cell_type": "markdown",
   "id": "d6cb508a",
   "metadata": {},
   "source": [
    "### Extract the data from the obtained"
   ]
  },
  {
   "cell_type": "code",
   "execution_count": null,
   "id": "769dad3b",
   "metadata": {},
   "outputs": [],
   "source": [
    "data = []\n",
    "urls = []\n",
    "sponsor_user = []\n",
    "user_dict = {}\n",
    "get_sponsor = True\n",
    "time = []\n",
    "headers = {\n",
    "    'user-agent':\n",
    "    'Mozilla/5.0 (X11; Linux x86_64) AppleWebKit/537.36 (KHTML, like Gecko) Chrome/86.0.4240.111 Safari/537.36'\n",
    "}\n",
    "# Loop through each response object\n",
    "for response in tweet_data:\n",
    "    # Take all of the users, and put them into a dictionary of dictionaries with the info we want to keep\n",
    "    for user in response.includes['users']:\n",
    "        user_dict[user.id] = {'username': user.username}\n",
    "    for tweet in response.data:\n",
    "        # For each tweet, find the author's information\n",
    "        author_info = user_dict[tweet.author_id]\n",
    "        last_update_time = client.get_users_tweets(id=tweet.author_id,\n",
    "                                                   tweet_fields=['created_at'])\n",
    "        # Get links for each tweet\n",
    "        for i in range(len(tweet.entities['urls'])):\n",
    "            link = tweet.entities['urls'][i]['expanded_url']\n",
    "            if 'https://github.com/sponsors/' in link:\n",
    "                sponsor_user.append(\n",
    "                    link.split('/')[4].split('?')[0].split('#')[0])\n",
    "                get_sponsor = False\n",
    "            # If the URL has been shortened, it should be extended\n",
    "            elif get_sponsor:\n",
    "                try:\n",
    "                    short_link = requests.head(link,\n",
    "                                               allow_redirects=True,\n",
    "                                               headers=headers)\n",
    "                except requests.exceptions.RequestException as error:\n",
    "                    print(\"Error: \", error)\n",
    "                if 'https://github.com/sponsors/' in str(short_link.url):\n",
    "                    sponsor_user.append(\n",
    "                        str(short_link.url).split('/')[4].split('?')[0])\n",
    "            get_sponsor = True\n",
    "            urls.append(link)\n",
    "        for t in last_update_time.data:\n",
    "            time.append(t.created_at)\n",
    "        data.append({\n",
    "            'Tweet_Url': str(tweet.id),\n",
    "            'Language': tweet.lang,\n",
    "            'Time': tweet.created_at,\n",
    "            'User_Last_Update': time[0],\n",
    "            'Tweet_User_ID': tweet.author_id,\n",
    "            'Tweet_Username': author_info['username'],\n",
    "            'Tweet_Text': tweet.text,\n",
    "            'Sponsor_Username': sponsor_user,\n",
    "            '# Retweet': tweet.public_metrics['retweet_count'],\n",
    "            '# Replys': tweet.public_metrics['reply_count'],\n",
    "            '# Likes': tweet.public_metrics['like_count'],\n",
    "            'Links': urls\n",
    "        })\n",
    "        sponsor_user = []\n",
    "        urls = []\n",
    "        time = []"
   ]
  },
  {
   "cell_type": "markdown",
   "id": "427234da",
   "metadata": {},
   "source": [
    "### Convert to pandas format"
   ]
  },
  {
   "cell_type": "code",
   "execution_count": null,
   "id": "2f84227d",
   "metadata": {},
   "outputs": [],
   "source": [
    "df = pd.DataFrame(data)"
   ]
  },
  {
   "cell_type": "markdown",
   "id": "25def36f",
   "metadata": {},
   "source": [
    "### Convert to tweet url"
   ]
  },
  {
   "cell_type": "code",
   "execution_count": null,
   "id": "5049dee2",
   "metadata": {},
   "outputs": [],
   "source": [
    "df['Tweet_Url'] = 'https://twitter.com/twitter/status/' + df[\n",
    "    'Tweet_Url'].astype(str)"
   ]
  },
  {
   "cell_type": "markdown",
   "id": "edecfa61",
   "metadata": {},
   "source": [
    "### Decode the language"
   ]
  },
  {
   "cell_type": "code",
   "execution_count": null,
   "id": "99f68f8d",
   "metadata": {},
   "outputs": [],
   "source": [
    "lang = []\n",
    "for a in df['Language']:\n",
    "    lang.append(langtags.Tag(a).language.description)\n",
    "df['Language'] = lang"
   ]
  },
  {
   "cell_type": "markdown",
   "id": "47d3203c",
   "metadata": {},
   "source": [
    "### Get the account type of the Github user"
   ]
  },
  {
   "cell_type": "code",
   "execution_count": null,
   "id": "ee2237fd",
   "metadata": {},
   "outputs": [],
   "source": [
    "the_sponsor_type = []\n",
    "usertype = []\n",
    "\n",
    "for x in df['Sponsor_Username']:\n",
    "    for y in x:\n",
    "        try:\n",
    "            user = git.get_user(y)\n",
    "            usertype.append(user.type)\n",
    "        except github.GithubException as e:\n",
    "            usertype.append(e)\n",
    "    the_sponsor_type.append(str(usertype))\n",
    "    usertype = []\n",
    "df['account_type'] = the_sponsor_type"
   ]
  },
  {
   "cell_type": "markdown",
   "id": "fee82e6f",
   "metadata": {},
   "source": [
    "### Remove the bracket and the quote from the data"
   ]
  },
  {
   "cell_type": "code",
   "execution_count": null,
   "id": "562e06cd",
   "metadata": {},
   "outputs": [],
   "source": [
    "def remove_the_bracket(data):\n",
    "    sponsor_username = []\n",
    "    bracket = r'[\\([{' '})\\]]'\n",
    "    for x in data:\n",
    "        url = re.sub(bracket, \"\", str(x))\n",
    "        url = url.replace(\"'\", \"\")\n",
    "        sponsor_username.append(url)\n",
    "    return sponsor_username"
   ]
  },
  {
   "cell_type": "markdown",
   "id": "2a8eccaf",
   "metadata": {},
   "source": [
    "### Remove the bracket and the quote from df['Sponsor_Username']"
   ]
  },
  {
   "cell_type": "code",
   "execution_count": null,
   "id": "88fdf474",
   "metadata": {},
   "outputs": [],
   "source": [
    "sponsor_username_without_bracket = remove_the_bracket(df['Sponsor_Username'])\n",
    "df['Sponsor_Username'] = sponsor_username_without_bracket"
   ]
  },
  {
   "cell_type": "markdown",
   "id": "1713308a",
   "metadata": {},
   "source": [
    "### Remove the bracket and the quote from df['account_type']"
   ]
  },
  {
   "cell_type": "code",
   "execution_count": null,
   "id": "675cb0f4",
   "metadata": {},
   "outputs": [],
   "source": [
    "account_type_without_bracket = remove_the_bracket(df['account_type'])\n",
    "df['account_type'] = account_type_without_bracket"
   ]
  },
  {
   "cell_type": "markdown",
   "id": "16658002",
   "metadata": {},
   "source": [
    "### Change the letters to lowercase to make it easier to call the userType for query below"
   ]
  },
  {
   "cell_type": "code",
   "execution_count": null,
   "id": "7d5b24db",
   "metadata": {},
   "outputs": [],
   "source": [
    "df['account_type'] = df['account_type'].str.replace('User', 'user')\n",
    "df['account_type'] = df['account_type'].str.replace('Organization',\n",
    "                                                    'organization')"
   ]
  },
  {
   "cell_type": "markdown",
   "id": "34476188",
   "metadata": {},
   "source": [
    "### Get the primaryLanguage of user"
   ]
  },
  {
   "cell_type": "code",
   "execution_count": null,
   "id": "14bf58b0",
   "metadata": {},
   "outputs": [],
   "source": [
    "import time\n",
    "\n",
    "git = HubAPI('github_token')\n",
    "lang = []\n",
    "lang_use = []\n",
    "\n",
    "for typeUser, user in zip(df.account_type, df.Sponsor_Username):\n",
    "    if type(user) == float:\n",
    "        user = \"none\"\n",
    "    query = \"\"\"\n",
    "        query{\n",
    "            userType(login: \"username\") {\n",
    "                repositories(first: 100) {\n",
    "                  totalCount\n",
    "                  edges {\n",
    "                    node {\n",
    "                      primaryLanguage {\n",
    "                        name\n",
    "                      }\n",
    "                    }\n",
    "                  }\n",
    "                  pageInfo {\n",
    "                    endCursor\n",
    "                    hasNextPage\n",
    "                    startCursor\n",
    "                  }\n",
    "                }\n",
    "              }\n",
    "        }\"\"\".replace('username', user).replace('userType', typeUser)\n",
    "    tiers = git.custom_query(query)\n",
    "\n",
    "    if str(tiers[typeUser]) == \"None\":\n",
    "        lang_use.append('None')\n",
    "    else:\n",
    "        if len(tiers[typeUser]['repositories']['edges']) == 0:\n",
    "            lang_use.append('None')\n",
    "        else:\n",
    "            for x in tiers[typeUser]['repositories']['edges']:\n",
    "                if str(x['node']['primaryLanguage']) == \"None\":\n",
    "                    lang.append('None')\n",
    "                else:\n",
    "                    lang.append(x['node']['primaryLanguage']['name'])\n",
    "\n",
    "    if str(tiers[typeUser]) != \"None\":\n",
    "        while tiers[typeUser]['repositories']['pageInfo']['hasNextPage']:\n",
    "            endcursor = tiers[typeUser]['repositories']['pageInfo'][\n",
    "                'endCursor']\n",
    "            query = \"\"\"\n",
    "            query{\n",
    "                userType(login: \"username\") {\n",
    "                    repositories(first: 100,after:\"endcursor\") {\n",
    "                      totalCount\n",
    "                      edges {\n",
    "                        node {\n",
    "                          primaryLanguage {\n",
    "                            name\n",
    "                          }\n",
    "                        }\n",
    "                      }\n",
    "                      pageInfo {\n",
    "                        endCursor\n",
    "                        hasNextPage\n",
    "                        startCursor\n",
    "                      }\n",
    "                    }\n",
    "                  }\n",
    "            }\"\"\".replace('endcursor',\n",
    "                         endcursor).replace('username', user).replace(\n",
    "                             'userType', typeUser)\n",
    "            tiers = git.custom_query(query)\n",
    "            for x in tiers[typeUser]['repositories']['edges']:\n",
    "                if str(x['node']['primaryLanguage']) == \"None\":\n",
    "                    lang.append('None')\n",
    "                else:\n",
    "                    lang.append(x['node']['primaryLanguage']['name'])\n",
    "\n",
    "    if len(lang) != 0:\n",
    "        dfs = pd.DataFrame(lang, columns=['lang'])\n",
    "        lang_use.append(dfs['lang'].mode()[0])\n",
    "        lang = []\n",
    "        dfs = pd.DataFrame()\n",
    "    time.sleep(2)\n",
    "df['Primary programming language'] = lang_use"
   ]
  },
  {
   "cell_type": "markdown",
   "id": "4554e207",
   "metadata": {},
   "source": [
    "### Save as csv file"
   ]
  },
  {
   "cell_type": "code",
   "execution_count": null,
   "id": "aa1ab45c",
   "metadata": {},
   "outputs": [],
   "source": [
    "df.to_csv('../data/Contribution_activities/All_tweets.csv', index=False)"
   ]
  }
 ],
 "metadata": {
  "kernelspec": {
   "display_name": "Python 3 (ipykernel)",
   "language": "python",
   "name": "python3"
  },
  "language_info": {
   "codemirror_mode": {
    "name": "ipython",
    "version": 3
   },
   "file_extension": ".py",
   "mimetype": "text/x-python",
   "name": "python",
   "nbconvert_exporter": "python",
   "pygments_lexer": "ipython3",
   "version": "3.9.12"
  },
  "vscode": {
   "interpreter": {
    "hash": "31f2aee4e71d21fbe5cf8b01ff0e069b9275f58929596ceb00d14d90e3e16cd6"
   }
  }
 },
 "nbformat": 4,
 "nbformat_minor": 5
}
