{
 "cells": [
  {
   "cell_type": "code",
   "execution_count": null,
   "id": "b83b61ad",
   "metadata": {},
   "outputs": [],
   "source": [
    "import tweepy\n",
    "import pandas as pd\n",
    "import time\n",
    "import requests\n",
    "import langtags"
   ]
  },
  {
   "cell_type": "code",
   "execution_count": null,
   "id": "d4138c49",
   "metadata": {},
   "outputs": [],
   "source": [
    "client = tweepy.Client(bearer_token=\"bearer_token\",\n",
    "                       access_token=\"access_token\",\n",
    "                       access_token_secret=\"access_token_secret\")"
   ]
  },
  {
   "cell_type": "markdown",
   "id": "486c5a7d",
   "metadata": {},
   "source": [
    "### Query for tweets containing the URL \"paypal.com/paypalme/\" and \"github.com\""
   ]
  },
  {
   "cell_type": "code",
   "execution_count": null,
   "id": "a41ac374",
   "metadata": {},
   "outputs": [],
   "source": [
    "tweet_data = []\n",
    "for tweet in tweepy.Paginator(\n",
    "        client.search_all_tweets,\n",
    "        query=\n",
    "        'url:\"paypal.com/paypalme/\" url:\"github.com\" -is:retweet -is:reply',\n",
    "        tweet_fields=[\n",
    "            'id', 'text', 'author_id', 'created_at', 'entities',\n",
    "            'referenced_tweets', 'lang', 'public_metrics'\n",
    "        ],\n",
    "        user_fields=['username'],\n",
    "        expansions='author_id',\n",
    "        start_time='2019-05-01T00:00:00Z',\n",
    "        end_time='2022-04-30T00:00:00Z',\n",
    "        max_results=50):\n",
    "    time.sleep(2)\n",
    "    tweet_data.append(tweet)"
   ]
  },
  {
   "cell_type": "markdown",
   "id": "4f5b0add",
   "metadata": {},
   "source": [
    "### Extract the data from the obtained"
   ]
  },
  {
   "cell_type": "code",
   "execution_count": null,
   "id": "a047e447",
   "metadata": {},
   "outputs": [],
   "source": [
    "import time\n",
    "\n",
    "data = []\n",
    "urls = []\n",
    "paypal_user = []\n",
    "github_user = []\n",
    "get_username = True\n",
    "user_dict = {}\n",
    "headers = {\n",
    "    'user-agent':\n",
    "    'Mozilla/5.0 (X11; Linux x86_64) AppleWebKit/537.36 (KHTML, like Gecko) Chrome/86.0.4240.111 Safari/537.36'\n",
    "}\n",
    "# Loop through each response object\n",
    "for response in tweet_data:\n",
    "    if str(response.data) != \"None\":\n",
    "        # Take all of the users, and put them into a dictionary of dictionaries with the info we want to keep\n",
    "        for user in response.includes['users']:\n",
    "            user_dict[user.id] = {'username': user.username}\n",
    "        for tweet in response.data:\n",
    "            # For each tweet, find the author's information\n",
    "            author_info = user_dict[tweet.author_id]\n",
    "            # Get links for each tweet\n",
    "            for i in range(len(tweet.entities['urls'])):\n",
    "                link = tweet.entities['urls'][i]['expanded_url']\n",
    "                urls.append(link)\n",
    "                if 'paypal.com/paypalme/' in link:\n",
    "                    paypal_user.append(link.split('/')[4].split('?')[0])\n",
    "                    get_username = False\n",
    "                elif 'github.com/sponsors/' in link:\n",
    "                    github_user.append(\n",
    "                        link.split('/')[4].split('?')[0].split('#')[0])\n",
    "                    get_username = False\n",
    "                elif 'gist.github.com/' in link:\n",
    "                    github_user.append(link.split('/')[3].split('?')[0])\n",
    "                    get_username = False\n",
    "                elif 'github.com/' in link:\n",
    "                    github_user.append(link.split('/')[3].split('?')[0])\n",
    "                    get_username = False\n",
    "                # If the URL has been shortened, it should be extended\n",
    "                elif get_username:\n",
    "                    try:\n",
    "                        short_link = requests.head(link,\n",
    "                                                   allow_redirects=True,\n",
    "                                                   headers=headers)\n",
    "                    except requests.exceptions.RequestException as error:\n",
    "                        print(\"Error: \", error)\n",
    "                    if 'paypal.com/paypalme/' in str(short_link.url):\n",
    "                        paypal_user.append(\n",
    "                            str(short_link.url).split('/')[4].split('?')[0])\n",
    "                    elif 'github.com/sponsors/' in str(short_link.url):\n",
    "                        github_user.append(\n",
    "                            str(short_link.url).split('/')[4].split('?')\n",
    "                            [0].split('#')[0])\n",
    "                    elif 'gist.github.com/' in str(short_link.url):\n",
    "                        github_user.append(\n",
    "                            str(short_link.url).split('/')[3].split('?')[0])\n",
    "                    elif 'github.com/' in str(short_link.url):\n",
    "                        github_user.append(\n",
    "                            str(short_link.url).split('/')[3].split('?')[0])\n",
    "                get_username = True\n",
    "                time.sleep(1.5)\n",
    "            data.append({\n",
    "                'Tweet_Url': str(tweet.id),\n",
    "                'Language': tweet.lang,\n",
    "                'Time': tweet.created_at,\n",
    "                'Tweet_User_ID': tweet.author_id,\n",
    "                'Tweet_Username': author_info['username'],\n",
    "                'Tweet_Text': tweet.text,\n",
    "                'Paypal_Username': paypal_user,\n",
    "                'Sponsor_Username': github_user,\n",
    "                '# Retweet': tweet.public_metrics['retweet_count'],\n",
    "                '# Replys': tweet.public_metrics['reply_count'],\n",
    "                '# Likes': tweet.public_metrics['like_count'],\n",
    "                'Links': urls\n",
    "            })\n",
    "            urls = []\n",
    "            github_user = []\n",
    "            paypal_user = []"
   ]
  },
  {
   "cell_type": "markdown",
   "id": "19137481",
   "metadata": {},
   "source": [
    "### Convert to pandas format"
   ]
  },
  {
   "cell_type": "code",
   "execution_count": null,
   "id": "9adbb1c2",
   "metadata": {},
   "outputs": [],
   "source": [
    "df = pd.DataFrame(data)\n",
    "df"
   ]
  },
  {
   "cell_type": "markdown",
   "id": "0ba609a3",
   "metadata": {},
   "source": [
    "### Convert to tweet url"
   ]
  },
  {
   "cell_type": "code",
   "execution_count": null,
   "id": "6706e79f",
   "metadata": {},
   "outputs": [],
   "source": [
    "df['Tweet_Url'] = 'https://twitter.com/twitter/status/' + df[\n",
    "    'Tweet_Url'].astype(str)"
   ]
  },
  {
   "cell_type": "markdown",
   "id": "486b04fb",
   "metadata": {},
   "source": [
    "### Decode the language"
   ]
  },
  {
   "cell_type": "code",
   "execution_count": null,
   "id": "dae7e0f5",
   "metadata": {},
   "outputs": [],
   "source": [
    "lang = []\n",
    "for a in df['Language']:\n",
    "    lang.append(langtags.Tag(a).language.description)\n",
    "df['Language'] = lang"
   ]
  },
  {
   "cell_type": "markdown",
   "id": "8f5012ae",
   "metadata": {},
   "source": [
    "### Save as csv file"
   ]
  },
  {
   "cell_type": "code",
   "execution_count": null,
   "id": "caaf25ce",
   "metadata": {},
   "outputs": [],
   "source": [
    "df.to_csv('../data/Contribution_activities/Paypal_tweets.csv')"
   ]
  }
 ],
 "metadata": {
  "kernelspec": {
   "display_name": "Python 3 (ipykernel)",
   "language": "python",
   "name": "python3"
  },
  "language_info": {
   "codemirror_mode": {
    "name": "ipython",
    "version": 3
   },
   "file_extension": ".py",
   "mimetype": "text/x-python",
   "name": "python",
   "nbconvert_exporter": "python",
   "pygments_lexer": "ipython3",
   "version": "3.9.12"
  }
 },
 "nbformat": 4,
 "nbformat_minor": 5
}
